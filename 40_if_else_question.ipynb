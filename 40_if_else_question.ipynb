{
  "cells": [
    {
      "cell_type": "markdown",
      "metadata": {
        "id": "view-in-github",
        "colab_type": "text"
      },
      "source": [
        "<a href=\"https://colab.research.google.com/github/nikesh11xx/nikesh11xx/blob/main/40_if_else_question.ipynb\" target=\"_parent\"><img src=\"https://colab.research.google.com/assets/colab-badge.svg\" alt=\"Open In Colab\"/></a>"
      ]
    },
    {
      "cell_type": "markdown",
      "metadata": {
        "id": "5qewv7Sfm9p3"
      },
      "source": [
        "1. Write a program to check whether a person is eligible for voting or not (accept age from the users)"
      ]
    },
    {
      "cell_type": "code",
      "execution_count": null,
      "metadata": {
        "colab": {
          "base_uri": "https://localhost:8080/"
        },
        "id": "9mrSQcWVmt5D",
        "outputId": "21e279ed-a0fd-49c6-f463-156ab3fd6938"
      },
      "outputs": [
        {
          "output_type": "stream",
          "name": "stdout",
          "text": [
            "Enter your age 67\n",
            "You are Eligible for voting\n"
          ]
        }
      ],
      "source": [
        "#  code\n",
        "age =  int(input('Enter your age '))\n",
        "\n",
        "if age >= 18:\n",
        "  print('You are Eligible for voting')\n",
        "else:\n",
        "  print('Not eligible for voting')"
      ]
    },
    {
      "cell_type": "markdown",
      "metadata": {
        "id": "xwsjv5njnvaj"
      },
      "source": [
        "2. write a program to check wheather a number entered by user is even or odd"
      ]
    },
    {
      "cell_type": "code",
      "execution_count": null,
      "metadata": {
        "colab": {
          "base_uri": "https://localhost:8080/"
        },
        "id": "JxrxtIJ9oCtW",
        "outputId": "0f13e4bb-7921-47d3-d2ba-6e99850e17af"
      },
      "outputs": [
        {
          "name": "stdout",
          "output_type": "stream",
          "text": [
            "Enter the number 8\n",
            "Number is even\n"
          ]
        }
      ],
      "source": [
        "number = int(input('Enter the number '))\n",
        "\n",
        "if number % 2 ==0 :\n",
        "  print('Number is even')\n",
        "else:\n",
        "  print('Number is odd')"
      ]
    },
    {
      "cell_type": "markdown",
      "metadata": {
        "id": "Bx6PKR3sofua"
      },
      "source": [
        "3.  Write a program to check wheather a number is divisible by 7 or not"
      ]
    },
    {
      "cell_type": "code",
      "execution_count": null,
      "metadata": {
        "colab": {
          "base_uri": "https://localhost:8080/"
        },
        "id": "lnpg71mXodCi",
        "outputId": "47ef51fe-f93c-4d55-dbda-146cfee10f76"
      },
      "outputs": [
        {
          "name": "stdout",
          "output_type": "stream",
          "text": [
            "Enter the number 17\n",
            "17 is not divisible 7\n"
          ]
        }
      ],
      "source": [
        "number = int(input('Enter the number '))\n",
        "\n",
        "if number % 7 == 0:\n",
        "  print(f'{number} is divisible 7')\n",
        "else:\n",
        "  print(f'{number} is not divisible 7')"
      ]
    },
    {
      "cell_type": "markdown",
      "metadata": {
        "id": "URpt6xuGpPTT"
      },
      "source": [
        "4. write a program to display 'Hello' if a number entered by user is multiply of 5 other wise print 'bye'"
      ]
    },
    {
      "cell_type": "code",
      "execution_count": null,
      "metadata": {
        "colab": {
          "base_uri": "https://localhost:8080/"
        },
        "id": "u8gdwQJ6pjCV",
        "outputId": "541fd9ca-3b9a-4edc-e22c-4674350d9c51"
      },
      "outputs": [
        {
          "name": "stdout",
          "output_type": "stream",
          "text": [
            "Enter the number 5\n",
            "Hello\n"
          ]
        }
      ],
      "source": [
        "number = int(input('Enter the number '))\n",
        "if number % 5 == 0 :\n",
        "  print('Hello')\n",
        "else:\n",
        "  print('Bye')"
      ]
    },
    {
      "cell_type": "markdown",
      "metadata": {
        "id": "czydE-aLpPPw"
      },
      "source": [
        "5. write a program to calculate the electricity bill according to the following criteria:\n",
        "  - first 100 units - no charge\n",
        "  - next 100 units = rs 5 per unit\n",
        "  - after 200 units = rs 10 per units"
      ]
    },
    {
      "cell_type": "code",
      "execution_count": null,
      "metadata": {
        "colab": {
          "background_save": true,
          "base_uri": "https://localhost:8080/"
        },
        "id": "MDXOnTyLqKVz",
        "outputId": "adb652d3-eb68-4340-e49b-53b377168138"
      },
      "outputs": [
        {
          "name": "stdout",
          "output_type": "stream",
          "text": [
            "No charge\n"
          ]
        }
      ],
      "source": [
        "units = int(input('Enter the units '))\n",
        "\n",
        "if units <= 100 :\n",
        "  print('No charge')\n",
        "elif units <= 200:\n",
        "  bill = units * 5\n",
        "  print(f\"your total bill is Rs {bill}\")\n",
        "else:\n",
        "  units >= 200\n",
        "  bill = units * 10\n",
        "  print(f\"your total bill is Rs {bill}\")"
      ]
    },
    {
      "cell_type": "markdown",
      "source": [
        "6. Check Even or Odd: Write a program to check if a given number is even or odd."
      ],
      "metadata": {
        "id": "Fao_Jv2O0KWv"
      }
    },
    {
      "cell_type": "code",
      "source": [
        "num = int(input('Enter number '))\n",
        "\n",
        "if num % 2 == 0:\n",
        "  print('Even')\n",
        "else:\n",
        "  print('Odd')"
      ],
      "metadata": {
        "colab": {
          "base_uri": "https://localhost:8080/"
        },
        "id": "Lgw9Ec67ymme",
        "outputId": "70a05c27-9168-4ab0-9854-6ba7235f3e33"
      },
      "execution_count": null,
      "outputs": [
        {
          "output_type": "stream",
          "name": "stdout",
          "text": [
            "Enter number 5\n",
            "Odd\n"
          ]
        }
      ]
    },
    {
      "cell_type": "markdown",
      "metadata": {
        "id": "nGf2HkdCpPNE"
      },
      "source": [
        "7. Check Positive or Negative: Write a program to check if a given number is positive, negative, or zero."
      ]
    },
    {
      "cell_type": "code",
      "source": [
        "num = int(input('Enter number '))\n",
        "\n",
        "if num > 0:\n",
        "  print('Positive')\n",
        "elif num < 0:\n",
        "  print('Negative')\n",
        "elif num == 0:\n",
        "  print('Zero')\n",
        "else:\n",
        "  print('Enter a valid number')"
      ],
      "metadata": {
        "colab": {
          "base_uri": "https://localhost:8080/"
        },
        "id": "Xf9KpWYT0sj4",
        "outputId": "fecc697d-45b9-4359-c77e-556b3776cbee"
      },
      "execution_count": null,
      "outputs": [
        {
          "output_type": "stream",
          "name": "stdout",
          "text": [
            "Enter number 4\n",
            "Positive\n"
          ]
        }
      ]
    },
    {
      "cell_type": "markdown",
      "metadata": {
        "id": "FRhjaoTtpPKN"
      },
      "source": [
        "8. Maximum of Two Numbers: Write a program to find the maximum of two numbers."
      ]
    },
    {
      "cell_type": "code",
      "source": [
        "num1 = int(input('Enter 1st num '))\n",
        "num2 = int(input('Enter 2nd num '))\n",
        "\n",
        "if num1 > num2 :\n",
        "  print(num1, ' is maximum number')\n",
        "\n",
        "else:\n",
        "  print(num2, ' is maximum number')"
      ],
      "metadata": {
        "colab": {
          "base_uri": "https://localhost:8080/"
        },
        "id": "8LG1imUa1eqY",
        "outputId": "01949981-3631-488b-a9a4-996d53b67278"
      },
      "execution_count": null,
      "outputs": [
        {
          "output_type": "stream",
          "name": "stdout",
          "text": [
            "Enter 1st num 2\n",
            "Enter 2nd num 3\n",
            "3  is maximum number\n"
          ]
        }
      ]
    },
    {
      "cell_type": "markdown",
      "metadata": {
        "id": "JAU2D14ApPHJ"
      },
      "source": [
        "9.Maximum of Three Numbers: Write a program to find the maximum of three numbers.\n"
      ]
    },
    {
      "cell_type": "code",
      "source": [
        "num1 = int(input('Enter 1st num '))\n",
        "num2 = int(input('Enter 2nd num '))\n",
        "num3 = int(input('Enter 3rd num'))\n",
        "\n",
        "if num1 > num2 and num3 :\n",
        "  print(num1, ' is maximum number')\n",
        "\n",
        "elif num2 > num1 and num3:\n",
        "  print(num2, ' is maximum number')\n",
        "\n",
        "else:\n",
        "  print(num3, ' is greater number')"
      ],
      "metadata": {
        "colab": {
          "base_uri": "https://localhost:8080/"
        },
        "id": "a26QqKYw2I0D",
        "outputId": "6d746715-a3cb-42ff-e5b3-dd0e0788a2fd"
      },
      "execution_count": null,
      "outputs": [
        {
          "output_type": "stream",
          "name": "stdout",
          "text": [
            "Enter 1st num 1\n",
            "Enter 2nd num 1\n",
            "Enter 3rd num3\n",
            "3  is greater number\n"
          ]
        }
      ]
    },
    {
      "cell_type": "code",
      "source": [
        "num1 = int(input('Enter 1st num '))\n",
        "num2 = int(input('Enter 2nd num '))\n",
        "num3 = int(input('Enter 3rd num'))\n",
        "\n",
        "max = max(num1,num2,num3)\n",
        "\n",
        "if num1 == max:\n",
        "  print(num1,' is max')\n",
        "elif num2 == max:\n",
        "  print(num2, ' is max')\n",
        "else:\n",
        "  print(num3,' is max')"
      ],
      "metadata": {
        "colab": {
          "base_uri": "https://localhost:8080/"
        },
        "id": "HqJrWNFs2zem",
        "outputId": "89aef4b7-ded3-4818-d12b-7e7b31153e71"
      },
      "execution_count": null,
      "outputs": [
        {
          "output_type": "stream",
          "name": "stdout",
          "text": [
            "Enter 1st num 1\n",
            "Enter 2nd num 1\n",
            "Enter 3rd num3\n",
            "3  is max\n"
          ]
        }
      ]
    },
    {
      "cell_type": "markdown",
      "metadata": {
        "id": "KRk67osLpPEC"
      },
      "source": [
        "10.Leap Year Check: Write a program to check if a given year is a leap year or not."
      ]
    },
    {
      "cell_type": "code",
      "source": [
        "year = int(input('enter year '))\n",
        "\n",
        "if (year % 4 == 0 and year % 100 != 0) or (year % 400 == 0):\n",
        "  print(year,' is a leap year')\n",
        "else:\n",
        "  print(year, ' is not a leap year')"
      ],
      "metadata": {
        "colab": {
          "base_uri": "https://localhost:8080/"
        },
        "id": "Q_-myFKCVdmU",
        "outputId": "84963590-f831-48b3-e2c3-0b280024f298"
      },
      "execution_count": null,
      "outputs": [
        {
          "output_type": "stream",
          "name": "stdout",
          "text": [
            "enter year 2016\n",
            "2016  is a leap year\n"
          ]
        }
      ]
    },
    {
      "cell_type": "markdown",
      "metadata": {
        "id": "LzpgxPFapPA2"
      },
      "source": [
        "11. Check Vowel or Consonant: Write a program to check if a given character is a vowel or a consonant."
      ]
    },
    {
      "cell_type": "code",
      "source": [
        "char  = input('Enter characeter ')\n",
        "vowel = 'aeiou'\n",
        "\n",
        "if char.lower() in vowel:\n",
        "  print(char, ' is vowel')\n",
        "else:\n",
        "  print(char, 'is a consonant')"
      ],
      "metadata": {
        "colab": {
          "base_uri": "https://localhost:8080/"
        },
        "id": "p4Q5Hwo_bYQu",
        "outputId": "b502c92e-c61b-4aef-a34f-0c72eb292148"
      },
      "execution_count": null,
      "outputs": [
        {
          "output_type": "stream",
          "name": "stdout",
          "text": [
            "Enter characeter N\n",
            "N is a consonant\n"
          ]
        }
      ]
    },
    {
      "cell_type": "markdown",
      "metadata": {
        "id": "6D1g7K-jpO-C"
      },
      "source": [
        "12. Check Alphabet or Not: Write a program to check if a given character is an alphabet or not."
      ]
    },
    {
      "cell_type": "code",
      "source": [
        "ch = input('Enter the characeter ')\n",
        "\n",
        "if char.isalpha():\n",
        "  print(char, ' is an alphabet')\n",
        "else:\n",
        "  print(char, ' is not alphabet')"
      ],
      "metadata": {
        "colab": {
          "base_uri": "https://localhost:8080/"
        },
        "id": "30PVoKJBfzsy",
        "outputId": "68fba23c-c5c0-4277-c055-7914d62d9f6e"
      },
      "execution_count": null,
      "outputs": [
        {
          "output_type": "stream",
          "name": "stdout",
          "text": [
            "Enter the characeter Nikesh\n",
            "N  is an alphabet\n"
          ]
        }
      ]
    },
    {
      "cell_type": "markdown",
      "metadata": {
        "id": "DzumcHG6pO61"
      },
      "source": [
        "13. Check Divisibility: Write a program to check if a given number is divisible by another number."
      ]
    },
    {
      "cell_type": "code",
      "source": [
        "num =  int(input('Enter a number '))\n",
        "divisor = int(input('Enter a divisior number '))\n",
        "\n",
        "if num % divisor == 0:\n",
        "  print(num, ' is divisible by ',divisor )\n",
        "else:\n",
        "  print(num, ' is not divisible by ',divisor)"
      ],
      "metadata": {
        "colab": {
          "base_uri": "https://localhost:8080/"
        },
        "id": "BVYaA0V8mRjY",
        "outputId": "24a8ef9b-e42d-4f6c-f854-387b7ad68957"
      },
      "execution_count": null,
      "outputs": [
        {
          "output_type": "stream",
          "name": "stdout",
          "text": [
            "Enter a number 7\n",
            "Enter a divisior number 8\n",
            "7  is not divisible by  8\n"
          ]
        }
      ]
    },
    {
      "cell_type": "markdown",
      "metadata": {
        "id": "K3c4yO2XpO33"
      },
      "source": [
        "14. Check Prime Number: Write a program to check if a given number is a prime number or not."
      ]
    },
    {
      "cell_type": "code",
      "source": [
        "num = int(input('Enter the number '))\n",
        "\n",
        "if num > 1:\n",
        "  for i in range(2,int(num/2) + 1):\n",
        "    if num % i == 0:\n",
        "      print(num,' is not a prime number')\n",
        "      break\n",
        "  else:\n",
        "    print(num, ' is a prime number')\n",
        "\n",
        "\n",
        "else:\n",
        "  print(num, ' is not a prime number')"
      ],
      "metadata": {
        "colab": {
          "base_uri": "https://localhost:8080/"
        },
        "id": "mJkaoq_2nO5p",
        "outputId": "89100276-a2b5-4ba9-e3c5-ccf02a720bae"
      },
      "execution_count": null,
      "outputs": [
        {
          "output_type": "stream",
          "name": "stdout",
          "text": [
            "Enter the number 7\n",
            "7  is a prime number\n"
          ]
        }
      ]
    },
    {
      "cell_type": "markdown",
      "metadata": {
        "id": "apCgvXrspO06"
      },
      "source": [
        "15. Check Palindrome: Write a program to check if a given number or string is a palindrome."
      ]
    },
    {
      "cell_type": "code",
      "source": [
        "input_str = input('Enter a number or string ')\n",
        "\n",
        "input_str =''.join(char.lower() for char in input_str if char.isalnum())\n",
        "\n",
        "# comparing the string with its reverse\n",
        "is_palindrome = input_str == input_str[::-1]\n",
        "\n",
        "if is_palindrome:\n",
        "  print('The input is a palindrome')\n",
        "else:\n",
        "  print('The input is not palindrome')"
      ],
      "metadata": {
        "colab": {
          "base_uri": "https://localhost:8080/"
        },
        "id": "8AHV4T1Qo-ms",
        "outputId": "4e0aae6a-3d14-4c4d-8e89-208ea1130ae4"
      },
      "execution_count": null,
      "outputs": [
        {
          "output_type": "stream",
          "name": "stdout",
          "text": [
            "Enter a number or string sjskjqks\n",
            "The input is not palindrome\n"
          ]
        }
      ]
    },
    {
      "cell_type": "markdown",
      "metadata": {
        "id": "NzEKXNBrpOrY"
      },
      "source": [
        "16. Check Armstrong Number: Write a program to check if a given number is an Armstrong number."
      ]
    },
    {
      "cell_type": "code",
      "source": [
        "number =  int(input('Enter num '))\n",
        "\n",
        "num_copy = number\n",
        "order = len(str(number))\n",
        "sum = 0\n",
        "\n",
        "while (number > 0):\n",
        "  digit = number %10\n",
        "  sum +=  digit ** order\n",
        "  number = number // 10\n",
        "\n",
        "if sum == num_copy:\n",
        "  print(f'{num_copy} is an armstrong number')\n",
        "else:\n",
        "  print(f'{num_copy} is not a armstrong number')"
      ],
      "metadata": {
        "colab": {
          "base_uri": "https://localhost:8080/"
        },
        "id": "ibVdWjdzt1J5",
        "outputId": "7ea0b612-2ac3-45d7-814a-22466053262f"
      },
      "execution_count": null,
      "outputs": [
        {
          "output_type": "stream",
          "name": "stdout",
          "text": [
            "Enter num 12345\n",
            "12345 is not a armstrong number\n"
          ]
        }
      ]
    },
    {
      "cell_type": "markdown",
      "source": [
        "17. Write a program to check if a given number is positive, negative, or zero"
      ],
      "metadata": {
        "id": "UKX8AzOc-o7P"
      }
    },
    {
      "cell_type": "code",
      "source": [
        "num = int(input('Enter a number '))\n",
        "if num > 0:\n",
        "  print('Positive')\n",
        "elif num < 0:\n",
        "  print('Negative')\n",
        "else:\n",
        "  print('Zero')"
      ],
      "metadata": {
        "colab": {
          "base_uri": "https://localhost:8080/"
        },
        "id": "cgPCgejDv9Sa",
        "outputId": "562ce9ef-61be-445d-f5f5-5e0b8ff7efa6"
      },
      "execution_count": null,
      "outputs": [
        {
          "output_type": "stream",
          "name": "stdout",
          "text": [
            "Enter a number -1\n",
            "Negative\n"
          ]
        }
      ]
    },
    {
      "cell_type": "markdown",
      "source": [
        "18. Write a program to find the greatest among four numbers."
      ],
      "metadata": {
        "id": "AhMNUc6P_02s"
      }
    },
    {
      "cell_type": "code",
      "source": [
        "num1 = int(input('Enter num1 '))\n",
        "num2 = int(input('Enter num2 '))\n",
        "num3 = int(input('Enter num3 '))\n",
        "num4 = int(input('Enter num4 '))\n",
        "\n",
        "max_num = max(num1,num2,num3,num4)\n",
        "\n",
        "if num1 == max_num:\n",
        "  print(f'{num1} is the greatest')\n",
        "if num2 == max_num:\n",
        "  print(f'{num2} is the greatest')\n",
        "if num3 == max_num:\n",
        "  print(f'{num3} is the greatest')\n",
        "if num4 == max_num:\n",
        "  print(f'{num4} is the greatest')"
      ],
      "metadata": {
        "colab": {
          "base_uri": "https://localhost:8080/"
        },
        "id": "CJPtiR0I8tSu",
        "outputId": "5bb208f8-d4a8-4d82-bdae-842b08c18303"
      },
      "execution_count": null,
      "outputs": [
        {
          "output_type": "stream",
          "name": "stdout",
          "text": [
            "Enter num1 1\n",
            "Enter num2 2\n",
            "Enter num3 3\n",
            "Enter num4 4\n",
            "4 is the greatest\n"
          ]
        }
      ]
    },
    {
      "cell_type": "markdown",
      "source": [
        "19. Write a program to find the roots of a quadratic equation."
      ],
      "metadata": {
        "id": "udkx7qKsHhkj"
      }
    },
    {
      "cell_type": "code",
      "source": [
        "import math\n",
        "a = int(input('Enter num for a '))\n",
        "b = int(input('Enter num for b '))\n",
        "c = int(input('Enter num for c '))\n",
        "\n",
        "delta = (b **2) - (4*a*c)\n",
        "\n",
        "if delta > 0:\n",
        "  root1 = ((-b )+ math.sqrt(delta)) / (2*a)\n",
        "  root2 = ((-b) - math.sqrt(delta))/ (2*a)\n",
        "  print('There are 2 roots:%f and %f' % (root1, root2))\n",
        "\n",
        "elif delta == 0:\n",
        "  x = (-b) / 2 * a\n",
        "  print('There is one root ',x )\n",
        "else:\n",
        "  print('No roots, delta < 0')"
      ],
      "metadata": {
        "colab": {
          "base_uri": "https://localhost:8080/"
        },
        "id": "Ng8_laGWHeKT",
        "outputId": "05169f3b-0dd9-4de3-9b7d-d080f4ab6760"
      },
      "execution_count": null,
      "outputs": [
        {
          "output_type": "stream",
          "name": "stdout",
          "text": [
            "Enter num for a 2\n",
            "Enter num for b 5\n",
            "Enter num for c 1\n",
            "There are 2 roots:-0.219224 and -2.280776\n"
          ]
        }
      ]
    },
    {
      "cell_type": "markdown",
      "source": [
        "20. Check Triangle Type: Write a program to check the type of triangle based on its sides."
      ],
      "metadata": {
        "id": "hKq_mk8rLPaO"
      }
    },
    {
      "cell_type": "code",
      "source": [
        "a = float(input(\"Enter length of side a: \"))\n",
        "b = float(input(\"Enter length of side b: \"))\n",
        "c = float(input(\"Enter length of side c: \"))\n",
        "\n",
        "if a ==b == c:\n",
        "  print('Equilaterial Triangle')\n",
        "\n",
        "elif a==b or b==c or c==a:\n",
        "  print('Isosceles Triangle')\n",
        "\n",
        "else:\n",
        "  print('Scalene Triangle')"
      ],
      "metadata": {
        "colab": {
          "base_uri": "https://localhost:8080/"
        },
        "id": "fIY8i0LgHgG-",
        "outputId": "2a42dac4-8be4-485a-854f-18fd03235c81"
      },
      "execution_count": null,
      "outputs": [
        {
          "output_type": "stream",
          "name": "stdout",
          "text": [
            "Enter length of side a: 2\n",
            "Enter length of side b: 5\n",
            "Enter length of side c: 7\n",
            "Scalene Triangle\n"
          ]
        }
      ]
    },
    {
      "cell_type": "markdown",
      "source": [
        "21. Write a program to check the sign of a number using ternary operator."
      ],
      "metadata": {
        "id": "zz3MEr9RE0jm"
      }
    },
    {
      "cell_type": "code",
      "source": [
        "num = float(input('Enter a number '))\n",
        "\n",
        "result = 'Positive' if num > 0 else 'Negative' if num < 0 else 'Zero'\n",
        "print(result)"
      ],
      "metadata": {
        "colab": {
          "base_uri": "https://localhost:8080/"
        },
        "id": "QwQiEF8vEz8z",
        "outputId": "50fa20c8-f111-408c-8dd4-9a1aa91b4ae4"
      },
      "execution_count": null,
      "outputs": [
        {
          "output_type": "stream",
          "name": "stdout",
          "text": [
            "Enter a number 0\n",
            "Zero\n"
          ]
        }
      ]
    },
    {
      "cell_type": "markdown",
      "source": [
        "22. Write a program to check if a number is within a specified range."
      ],
      "metadata": {
        "id": "ELxmH5I7G4DG"
      }
    },
    {
      "cell_type": "code",
      "source": [
        "num = float(input(\"Enter a number: \"))\n",
        "min_range = float(input(\"Enter minimum range: \"))\n",
        "max_range = float(input(\"Enter maximum range: \"))\n",
        "\n",
        "if min_range <= num <= max_range:\n",
        "  print(num,' is within the range')\n",
        "else:\n",
        "  print(num,' is out of the range')"
      ],
      "metadata": {
        "colab": {
          "base_uri": "https://localhost:8080/"
        },
        "id": "nY68VWT-GCiS",
        "outputId": "578d9e47-1cda-4cdf-a6de-c3450552a216"
      },
      "execution_count": null,
      "outputs": [
        {
          "output_type": "stream",
          "name": "stdout",
          "text": [
            "Enter a number: 5\n",
            "Enter minimum range: 2\n",
            "Enter maximum range: 7\n",
            "5.0  is within the range\n"
          ]
        }
      ]
    },
    {
      "cell_type": "markdown",
      "source": [
        "23.  Write a program to count the number of digits in a given number."
      ],
      "metadata": {
        "id": "8BnbfnqfJ0DB"
      }
    },
    {
      "cell_type": "code",
      "source": [
        "num = int(input('Enter a number '))\n",
        "x = len(str(abs(num)))\n",
        "print('Number of digits: ',x)"
      ],
      "metadata": {
        "colab": {
          "base_uri": "https://localhost:8080/"
        },
        "id": "jX5cikQIH_6D",
        "outputId": "4d0d8da0-2887-4f3d-87d3-09075687148e"
      },
      "execution_count": null,
      "outputs": [
        {
          "output_type": "stream",
          "name": "stdout",
          "text": [
            "Enter a number 12345\n",
            "Number of digits:  5\n"
          ]
        }
      ]
    },
    {
      "cell_type": "markdown",
      "source": [
        "24. Write a program to check if a number is a perfect number."
      ],
      "metadata": {
        "id": "22l1ISdRKPmQ"
      }
    },
    {
      "cell_type": "code",
      "source": [
        "n =int(input('Enter Number '))\n",
        "\n",
        "sum = 0\n",
        "for i  in range(1,n):\n",
        "  if n%i ==0:\n",
        "    print(i,end= ' ')\n",
        "    sum = sum+i\n",
        "if sum == n:\n",
        "  print('\\n',n,'is perfect number')\n",
        "else:\n",
        "  print('\\n',n,'is perfect number')"
      ],
      "metadata": {
        "colab": {
          "base_uri": "https://localhost:8080/"
        },
        "id": "ncJtkGV-KPL-",
        "outputId": "36d54680-29cf-4815-e89c-433b2ab44482"
      },
      "execution_count": null,
      "outputs": [
        {
          "output_type": "stream",
          "name": "stdout",
          "text": [
            "Enter Number 6\n",
            "1 2 3 \n",
            " 6 is perfect number\n"
          ]
        }
      ]
    },
    {
      "cell_type": "markdown",
      "source": [
        "25. Write a program to find the largest among three numbers without using if-else."
      ],
      "metadata": {
        "id": "Sqa-I_bGcJ6n"
      }
    },
    {
      "cell_type": "code",
      "source": [
        "num1 = float(input(\"Enter first number: \"))\n",
        "num2 = float(input(\"Enter second number: \"))\n",
        "num3 = float(input(\"Enter third number: \"))\n",
        "max_num = max(num1,num2,num3)\n",
        "print(\"The greatest number is:\", max_num)\n"
      ],
      "metadata": {
        "colab": {
          "base_uri": "https://localhost:8080/"
        },
        "id": "Dl6S5QooOMSh",
        "outputId": "21a2c1ad-1a84-4821-e5ce-90fdb41a963e"
      },
      "execution_count": null,
      "outputs": [
        {
          "output_type": "stream",
          "name": "stdout",
          "text": [
            "Enter first number: 4\n",
            "Enter second number: 3\n",
            "Enter third number: 2\n",
            "The greatest number is: 4.0\n"
          ]
        }
      ]
    },
    {
      "cell_type": "markdown",
      "source": [
        "26.  Write a program to check if a given file name has a certain extension."
      ],
      "metadata": {
        "id": "9z-H91IdcM_E"
      }
    },
    {
      "cell_type": "code",
      "source": [
        "file_name = input('Enter fie name: ')\n",
        "extension = input('Enter extension to check ')\n",
        "\n",
        "if file_name.endswith(extension):\n",
        "  print(file_name, 'has', extension, 'Extension')\n",
        "else:\n",
        "  print(file_name, 'does not have', extension, 'Extension')"
      ],
      "metadata": {
        "colab": {
          "base_uri": "https://localhost:8080/"
        },
        "id": "DiQblyr8cV0V",
        "outputId": "11de0a31-6180-45d5-fc22-e0925ca96419"
      },
      "execution_count": null,
      "outputs": [
        {
          "output_type": "stream",
          "name": "stdout",
          "text": [
            "Enter fie name: nikesh singh\n",
            "Enter extension to check h\n",
            "nikesh singh has h Extension\n"
          ]
        }
      ]
    },
    {
      "cell_type": "markdown",
      "source": [
        "27. Write a program to check if a given number is a power of 2."
      ],
      "metadata": {
        "id": "YD6lJYN7dEU4"
      }
    },
    {
      "cell_type": "code",
      "source": [
        "num = int(input('Enter a number '))\n",
        "if (num > 0) and (num & (num - 1)) == 0:\n",
        "  print(num,' is a power of 2')\n",
        "else:\n",
        "  print(num,' is not a power of 2')\n"
      ],
      "metadata": {
        "id": "Xn2Zu3suc9Aj"
      },
      "execution_count": null,
      "outputs": []
    },
    {
      "cell_type": "markdown",
      "source": [
        "28. Write a program to check if a number is even without using the modulus operator."
      ],
      "metadata": {
        "id": "2QtYJUOlfoLn"
      }
    },
    {
      "cell_type": "code",
      "source": [
        "num = int(input())\n",
        "if num & 1 == 0:\n",
        "  print(num,'even')\n",
        "else:\n",
        "  print(num, 'is odd')"
      ],
      "metadata": {
        "colab": {
          "base_uri": "https://localhost:8080/"
        },
        "id": "6yzp4Pdtfsux",
        "outputId": "791849a7-b11c-40f3-b3a2-45d5ad0ee4a9"
      },
      "execution_count": null,
      "outputs": [
        {
          "output_type": "stream",
          "name": "stdout",
          "text": [
            "2\n",
            "2 even\n"
          ]
        }
      ]
    },
    {
      "cell_type": "markdown",
      "source": [
        "29. Write a program to check if three given sides form a valid triangle."
      ],
      "metadata": {
        "id": "J1EnRyuWgXB-"
      }
    },
    {
      "cell_type": "code",
      "source": [
        "a = int(input('Enter a number '))\n",
        "b = int(input('Enter 2nd number '))\n",
        "c = int(input('Enter 3rd number '))\n",
        "\n",
        "if (a+b > c) and (b+c >a) and (c+a > b):\n",
        "  print('Valid Triangle')\n",
        "else:\n",
        "  print('Ivalid Triangle')"
      ],
      "metadata": {
        "colab": {
          "base_uri": "https://localhost:8080/"
        },
        "id": "oB_S0UDpgbgc",
        "outputId": "eeb276c0-9a26-4771-cd1b-4c142d76b5da"
      },
      "execution_count": null,
      "outputs": [
        {
          "output_type": "stream",
          "name": "stdout",
          "text": [
            "Enter a number 9\n",
            "Enter 2nd number 9\n",
            "Enter 3rd number 9\n",
            "Valid Triangle\n"
          ]
        }
      ]
    },
    {
      "cell_type": "markdown",
      "source": [
        "30. Check Grade: Write a program to assign grades based on the score obtained."
      ],
      "metadata": {
        "id": "YItE4EUJmQU7"
      }
    },
    {
      "cell_type": "code",
      "source": [
        "score = float(input(\"Enter score: \"))\n",
        "if 90 <= score <= 100:\n",
        "    grade = 'A'\n",
        "elif 80 <= score < 90:\n",
        "    grade = 'B'\n",
        "elif 70 <= score < 80:\n",
        "    grade = 'C'\n",
        "elif 60 <= score < 70:\n",
        "    grade = 'D'\n",
        "else:\n",
        "    grade = 'F'\n",
        "print(\"Grade:\", grade)\n"
      ],
      "metadata": {
        "id": "0cROxJWTmWLo"
      },
      "execution_count": null,
      "outputs": []
    },
    {
      "cell_type": "markdown",
      "source": [
        "31. Write a program to check if a number is divisible by both 5 and 7."
      ],
      "metadata": {
        "id": "_75V4W9ZmeBO"
      }
    },
    {
      "cell_type": "code",
      "source": [
        "num = int(input(\"Enter a number: \"))\n",
        "if num % 5 == 0 and num % 7 == 0:\n",
        "    print(num, \"is divisible by both 5 and 7\")\n",
        "else:\n",
        "    print(num, \"is not divisible by both 5 and 7\")\n"
      ],
      "metadata": {
        "id": "V-7qeu4Rmm6P"
      },
      "execution_count": null,
      "outputs": []
    },
    {
      "cell_type": "markdown",
      "source": [
        "32. Write a program to check if a year is a leap year without using if-else."
      ],
      "metadata": {
        "id": "HMYh1gFomo8Y"
      }
    },
    {
      "cell_type": "code",
      "source": [
        "def is_leaf_year(year):\n",
        "  \"\"\"Returns True if the given year is a leap year, False otherwise.\"\"\"\n",
        "\n",
        "  return year % 4==0 and year % 100 != 0 or year % 400 == 0\n",
        "\n",
        "is_leaf_year(2016)"
      ],
      "metadata": {
        "colab": {
          "base_uri": "https://localhost:8080/"
        },
        "id": "7mEAkOgKm7JW",
        "outputId": "07597e70-de60-424e-a33f-1cdcf32963dc"
      },
      "execution_count": null,
      "outputs": [
        {
          "output_type": "execute_result",
          "data": {
            "text/plain": [
              "True"
            ]
          },
          "metadata": {},
          "execution_count": 20
        }
      ]
    },
    {
      "cell_type": "code",
      "source": [
        "year = int(input('Enter year'))\n",
        "\n",
        "if (year % 4 == 0) and (year%400==0 or year % 100 ==0):\n",
        "  print(year,' is a leap year ')\n",
        "else:\n",
        "  print(year, ' is not a leap year')"
      ],
      "metadata": {
        "colab": {
          "base_uri": "https://localhost:8080/"
        },
        "id": "2EdSoT7onsHy",
        "outputId": "08fbb336-f78f-4708-f8ba-09e8a21b3aef"
      },
      "execution_count": null,
      "outputs": [
        {
          "output_type": "stream",
          "name": "stdout",
          "text": [
            "Enter year2017\n",
            "2017  is not a leap year\n"
          ]
        }
      ]
    },
    {
      "cell_type": "markdown",
      "source": [
        "33. Write a program to check if a character is an alphabet or not"
      ],
      "metadata": {
        "id": "dpRCenZapVkX"
      }
    },
    {
      "cell_type": "code",
      "source": [
        "char = input('enter char ')\n",
        "\n",
        "if (char >= 'a' and char<= 'z') or (char >= 'A' and char<='Z'):\n",
        "  print(char, ' is alphabet')\n",
        "else:\n",
        "  print(char, ' is not alphabet')"
      ],
      "metadata": {
        "colab": {
          "base_uri": "https://localhost:8080/"
        },
        "id": "P7C1ImSdpfmb",
        "outputId": "e1cdbac8-02b9-469c-e98c-9adc34af8a27"
      },
      "execution_count": null,
      "outputs": [
        {
          "output_type": "stream",
          "name": "stdout",
          "text": [
            "enter char 3\n",
            "3  is not alphabet\n"
          ]
        }
      ]
    },
    {
      "cell_type": "markdown",
      "source": [
        "33. Write a program to check if a number is divisible by another number.\n"
      ],
      "metadata": {
        "id": "_k8ltVSOrjeX"
      }
    },
    {
      "cell_type": "code",
      "source": [
        "num = int(input('Enter number '))\n",
        "div = int(input('Enter number '))\n",
        "\n",
        "if num % div == 0:\n",
        "  print(f\"{num} is divisible by {div}.\")\n",
        "else:\n",
        "  print(f\"{num} is not divisible by {div}.\")"
      ],
      "metadata": {
        "colab": {
          "base_uri": "https://localhost:8080/"
        },
        "id": "e8PW2JEbsoLI",
        "outputId": "dae252a0-9fbb-48a6-d381-7091a3980aca"
      },
      "execution_count": null,
      "outputs": [
        {
          "output_type": "stream",
          "name": "stdout",
          "text": [
            "Enter number 7\n",
            "Enter number 7\n",
            "7 is divisible by 7.\n"
          ]
        }
      ]
    },
    {
      "cell_type": "markdown",
      "source": [
        "34.  Write a program to check if a character is a vowel or consonant"
      ],
      "metadata": {
        "id": "WK23lQ53tEA0"
      }
    },
    {
      "cell_type": "code",
      "source": [],
      "metadata": {
        "id": "rh40813UuQSx"
      },
      "execution_count": null,
      "outputs": []
    },
    {
      "cell_type": "code",
      "source": [
        "char = input('Enter character ')\n",
        "vowels= 'aeiouAeiou'\n",
        "if char in vowels:\n",
        "  print(char , ' is vowels')\n",
        "else:\n",
        "  print(char,' is not vowels')"
      ],
      "metadata": {
        "colab": {
          "base_uri": "https://localhost:8080/"
        },
        "id": "G0f-AF1OtX_M",
        "outputId": "2340496e-f8e7-42e3-8a79-e3ddd30b9e52"
      },
      "execution_count": null,
      "outputs": [
        {
          "output_type": "stream",
          "name": "stdout",
          "text": [
            "Enter character aei\n",
            "aei  is vowels\n"
          ]
        }
      ]
    },
    {
      "cell_type": "markdown",
      "source": [
        "35. Write a program to check if a character is uppercase or lowercase."
      ],
      "metadata": {
        "id": "1OTBJe_auk0P"
      }
    },
    {
      "cell_type": "code",
      "source": [
        "char = input('Enter a number ')\n",
        "if char.isupper():\n",
        "  print(char,' is uppercase')\n",
        "elif char.islower():\n",
        "  print(char,' is lowercase')\n",
        "else:\n",
        "  print(char, ' is neither uppelower nor lowercase')"
      ],
      "metadata": {
        "colab": {
          "base_uri": "https://localhost:8080/"
        },
        "id": "_VEavJzPumrI",
        "outputId": "3bbd64ed-eef0-4f70-a21d-58e912df7295"
      },
      "execution_count": null,
      "outputs": [
        {
          "output_type": "stream",
          "name": "stdout",
          "text": [
            "Enter a number 123\n",
            "123  is neither uppelower nor lowercase\n"
          ]
        }
      ]
    },
    {
      "cell_type": "markdown",
      "source": [
        "36. Check Number of Days in a Month: Write a program to determine the number of days in a month."
      ],
      "metadata": {
        "id": "9siQtPs3vOKp"
      }
    },
    {
      "cell_type": "code",
      "source": [
        "month =  int(input('enter month (1-12)'))\n",
        "\n",
        "if month == 2:\n",
        "  print('28/29 days')\n",
        "elif month in (4,6,9,11):\n",
        "  print('30 days')\n",
        "else:\n",
        "  print('31 days')"
      ],
      "metadata": {
        "colab": {
          "base_uri": "https://localhost:8080/"
        },
        "id": "qOCJ4DEUvQMZ",
        "outputId": "e0fd140e-2b29-4756-f39c-15d1a565431f"
      },
      "execution_count": null,
      "outputs": [
        {
          "output_type": "stream",
          "name": "stdout",
          "text": [
            "enter month (1-12)4\n",
            "30 days\n"
          ]
        }
      ]
    },
    {
      "cell_type": "markdown",
      "source": [
        "36. Write a program to check if a number is divisible by both 4 and 5."
      ],
      "metadata": {
        "id": "vo1DioM-wxrY"
      }
    },
    {
      "cell_type": "code",
      "source": [
        "num = int(input('Enter a number '))\n",
        "\n",
        "if num % 4 == 0 and num % 5 == 0:\n",
        "  print(num, 'is divisible by both 4 and 5')\n",
        "else:\n",
        "  print(num, 'is not divisible by both 4 and 5')"
      ],
      "metadata": {
        "colab": {
          "base_uri": "https://localhost:8080/"
        },
        "id": "eMq6zzGpwzxG",
        "outputId": "0b231efd-eb4a-44a8-e4d7-983985f75ec8"
      },
      "execution_count": null,
      "outputs": [
        {
          "output_type": "stream",
          "name": "stdout",
          "text": [
            "Enter a number 45\n",
            "45 is not divisible by both 4 and 5\n"
          ]
        }
      ]
    },
    {
      "cell_type": "markdown",
      "source": [
        "37. Write a program to check if a person is eligible to vote."
      ],
      "metadata": {
        "id": "4cEZK7UkyPSR"
      }
    },
    {
      "cell_type": "code",
      "source": [
        "age = int(input('Enter your age '))\n",
        "\n",
        "if age >= 18:\n",
        "  print('You are eligible for vote')\n",
        "else:\n",
        "  print('You are not eligibl for vote')"
      ],
      "metadata": {
        "colab": {
          "base_uri": "https://localhost:8080/"
        },
        "id": "S8flHOCnyUYD",
        "outputId": "12c7dca0-7300-4aad-da17-032bbfb9a4cd"
      },
      "execution_count": null,
      "outputs": [
        {
          "output_type": "stream",
          "name": "stdout",
          "text": [
            "Enter your age 29\n",
            "You are eligible for vote\n"
          ]
        }
      ]
    },
    {
      "cell_type": "markdown",
      "source": [
        "38. Write a program to check if a point lies within a rectangle."
      ],
      "metadata": {
        "id": "dCAk04CXyzNi"
      }
    },
    {
      "cell_type": "code",
      "source": [
        "x = float(input(\"Enter x-coordinate of the point: \"))\n",
        "y = float(input(\"Enter y-coordinate of the point: \"))\n",
        "x1 = float(input(\"Enter x-coordinate of rectangle's top-left corner: \"))\n",
        "y1 = float(input(\"Enter y-coordinate of rectangle's top-left corner: \"))\n",
        "x2 = float(input(\"Enter x-coordinate of rectangle's bottom-right corner: \"))\n",
        "y2 = float(input(\"Enter y-coordinate of rectangle's bottom-right corner: \"))\n",
        "if x1 < x < x2 and y1 < y < y2:\n",
        "    print(\"Point lies within the rectangle\")\n",
        "else:\n",
        "    print(\"Point lies outside the rectangle\")"
      ],
      "metadata": {
        "colab": {
          "base_uri": "https://localhost:8080/"
        },
        "id": "oPavVZpJzF26",
        "outputId": "9d6051ac-b1ab-4c24-9cde-249aea6a8126"
      },
      "execution_count": null,
      "outputs": [
        {
          "output_type": "stream",
          "name": "stdout",
          "text": [
            "Enter x-coordinate of the point: 10\n",
            "Enter y-coordinate of the point: 20\n",
            "Enter x-coordinate of rectangle's top-left corner: 2\n",
            "Enter y-coordinate of rectangle's top-left corner: 3\n",
            "Enter x-coordinate of rectangle's bottom-right corner: 4\n",
            "Enter y-coordinate of rectangle's bottom-right corner: 5\n",
            "Point lies outside the rectangle\n"
          ]
        }
      ]
    },
    {
      "cell_type": "markdown",
      "source": [
        "39.  Write a program to determine the quadrant in which a point lies."
      ],
      "metadata": {
        "id": "nWwK-H9hzbel"
      }
    },
    {
      "cell_type": "code",
      "source": [
        "x = float(input(\"Enter x-coordinate of the point: \"))\n",
        "y = float(input(\"Enter y-coordinate of the point: \"))\n",
        "if x > 0 and y > 0:\n",
        "    print(\"Quadrant 1\")\n",
        "elif x < 0 and y > 0:\n",
        "    print(\"Quadrant 2\")\n",
        "elif x < 0 and y < 0:\n",
        "    print(\"Quadrant 3\")\n",
        "elif x > 0 and y < 0:\n",
        "    print(\"Quadrant 4\")\n",
        "else:\n",
        "    print(\"On the axis\")\n"
      ],
      "metadata": {
        "id": "VmCiV10i0AI2"
      },
      "execution_count": null,
      "outputs": []
    },
    {
      "cell_type": "markdown",
      "source": [
        "40.  Write a program to check if a number is a multiple of either 3 or 7.\n",
        "\n"
      ],
      "metadata": {
        "id": "9mpXJINz1csj"
      }
    },
    {
      "cell_type": "code",
      "source": [
        "num = int(input(\"Enter a number: \"))\n",
        "if num % 3 == 0 or num % 7 == 0:\n",
        "    print(num, \"is a multiple of either 3 or 7\")\n",
        "else:\n",
        "    print(num, \"is not a multiple of either 3 or 7\")\n"
      ],
      "metadata": {
        "id": "1iyOgWJ71eut"
      },
      "execution_count": null,
      "outputs": []
    }
  ],
  "metadata": {
    "colab": {
      "provenance": [],
      "authorship_tag": "ABX9TyPZSNIX6Dz5RciOeLKxE3xo",
      "include_colab_link": true
    },
    "kernelspec": {
      "display_name": "Python 3",
      "name": "python3"
    },
    "language_info": {
      "name": "python"
    }
  },
  "nbformat": 4,
  "nbformat_minor": 0
}